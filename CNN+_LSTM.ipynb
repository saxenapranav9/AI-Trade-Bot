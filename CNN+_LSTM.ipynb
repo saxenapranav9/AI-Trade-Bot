{
  "nbformat": 4,
  "nbformat_minor": 0,
  "metadata": {
    "colab": {
      "name": "CNN+ LSTM.ipynb",
      "provenance": [],
      "collapsed_sections": []
    },
    "kernelspec": {
      "name": "python3",
      "display_name": "Python 3"
    }
  },
  "cells": [
    {
      "cell_type": "code",
      "metadata": {
        "id": "0Fl0rL_gqLXZ",
        "colab_type": "code",
        "colab": {
          "base_uri": "https://localhost:8080/",
          "height": 71
        },
        "outputId": "edf7c369-e92a-4cda-8d86-bb9e0fdc3a9f"
      },
      "source": [
        "import numpy as np # linear algebra\n",
        "import pandas as pd # data processing, CSV file I/O (e.g. pd.read_csv)\n",
        "import matplotlib.pyplot as plt\n",
        "import pandas_datareader as web\n",
        "from sklearn.preprocessing import MinMaxScaler\n",
        "from keras.models import Sequential\n",
        "from keras.layers import Dense, LSTM, Conv1D, MaxPooling1D\n",
        "import math\n",
        "import tensorflow as tf\n",
        "from tensorflow.keras.metrics import RootMeanSquaredError\n",
        "from keras import regularizers\n",
        "from keras.layers import Dropout\n",
        "from keras.callbacks import *\n",
        "from keras.optimizers import Adam"
      ],
      "execution_count": null,
      "outputs": [
        {
          "output_type": "stream",
          "text": [
            "/usr/local/lib/python3.6/dist-packages/pandas_datareader/compat/__init__.py:7: FutureWarning: pandas.util.testing is deprecated. Use the functions in the public API at pandas.testing instead.\n",
            "  from pandas.util.testing import assert_frame_equal\n"
          ],
          "name": "stderr"
        }
      ]
    },
    {
      "cell_type": "code",
      "metadata": {
        "id": "4ccG6TJvqk9U",
        "colab_type": "code",
        "colab": {
          "resources": {
            "http://localhost:8080/nbextensions/google.colab/files.js": {
              "data": "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",
              "ok": true,
              "headers": [
                [
                  "content-type",
                  "application/javascript"
                ]
              ],
              "status": 200,
              "status_text": ""
            }
          },
          "base_uri": "https://localhost:8080/",
          "height": 38
        },
        "outputId": "18c0d435-9f8d-4dc8-cd92-d2ec89ab14b3"
      },
      "source": [
        "from google.colab import files\n",
        "uploaded = files.upload()\n",
        "import io\n",
        "# df2 = pd.read_csv(io.BytesIO(uploaded['ACN.csv'])) \n",
        "# df2 = pd.read_csv(io.BytesIO(uploaded['AMZN.csv'])) \n",
        "# df2 = pd.read_csv(io.BytesIO(uploaded['AAPL.csv'])) \n",
        "# df2 = pd.read_csv(io.BytesIO(uploaded['DELL.csv']))  \n",
        "# df2 = pd.read_csv(io.BytesIO(uploaded['UBER.csv'])) \n",
        "# df2 = pd.read_csv(io.BytesIO(uploaded['VZ.csv'])) \n",
        "# df2 = pd.read_csv(io.BytesIO(uploaded['FB.csv'])) \n",
        "\n",
        "df2 = pd.read_excel(io.BytesIO(uploaded['amzn.xlsx'])) \n",
        "\n"
      ],
      "execution_count": null,
      "outputs": [
        {
          "output_type": "display_data",
          "data": {
            "text/html": [
              "\n",
              "     <input type=\"file\" id=\"files-6704e5e9-c398-4fad-9f3a-a00f506e258b\" name=\"files[]\" multiple disabled\n",
              "        style=\"border:none\" />\n",
              "     <output id=\"result-6704e5e9-c398-4fad-9f3a-a00f506e258b\">\n",
              "      Upload widget is only available when the cell has been executed in the\n",
              "      current browser session. Please rerun this cell to enable.\n",
              "      </output>\n",
              "      <script src=\"/nbextensions/google.colab/files.js\"></script> "
            ],
            "text/plain": [
              "<IPython.core.display.HTML object>"
            ]
          },
          "metadata": {
            "tags": []
          }
        }
      ]
    },
    {
      "cell_type": "code",
      "metadata": {
        "id": "EVc6rqKLqw1W",
        "colab_type": "code",
        "colab": {}
      },
      "source": [
        "df2['Date'] = pd.to_datetime(df2['Date'])\n",
        "df2.set_index('Date',inplace=True)\n"
      ],
      "execution_count": null,
      "outputs": []
    },
    {
      "cell_type": "code",
      "metadata": {
        "id": "ECJlbg2E4Ftc",
        "colab_type": "code",
        "colab": {}
      },
      "source": [
        "df2.tail()"
      ],
      "execution_count": null,
      "outputs": []
    },
    {
      "cell_type": "code",
      "metadata": {
        "id": "OHp0JpGrq7Ib",
        "colab_type": "code",
        "colab": {}
      },
      "source": [
        "#plotting the data\n",
        "plt.figure(figsize=(20,10))\n",
        "plt.title('Close Price History',fontsize = 50)\n",
        "plt.plot(df2['Close'], color='red')\n",
        "plt.xlabel('Date', fontsize=30)\n",
        "plt.ylabel('Close Price USD', fontsize = 30)\n",
        "plt.xticks(fontsize = 20)    \n",
        "plt.yticks(fontsize = 20)\n",
        "plt.show()"
      ],
      "execution_count": null,
      "outputs": []
    },
    {
      "cell_type": "code",
      "metadata": {
        "id": "1oBNV9cFrHe5",
        "colab_type": "code",
        "colab": {}
      },
      "source": [
        "# create a new data frame with only 'Close column'\n",
        "data = df2.filter(['Close'])\n",
        "dataset = data.values\n",
        "training_data_len = math.ceil(len(dataset)*.8)  # number of rows to train the model on\n",
        "# print(training_data_len)\n",
        "# data.tail()"
      ],
      "execution_count": null,
      "outputs": []
    },
    {
      "cell_type": "code",
      "metadata": {
        "id": "ufiHJgD37xkT",
        "colab_type": "code",
        "colab": {}
      },
      "source": [
        "#scale the data\n",
        "scaler = MinMaxScaler(feature_range=(0,1))\n",
        "scaled_data = scaler.fit_transform(dataset)\n",
        "# scaled_data"
      ],
      "execution_count": null,
      "outputs": []
    },
    {
      "cell_type": "code",
      "metadata": {
        "id": "nqPkG30Fj-f8",
        "colab_type": "code",
        "colab": {
          "base_uri": "https://localhost:8080/",
          "height": 85
        },
        "outputId": "df0127c7-e60d-4cd4-cd5c-51090732ed35"
      },
      "source": [
        "result = []\n",
        "sequence_length = 6\n",
        "for index in range(len(scaled_data) - sequence_length):\n",
        "    result.append(scaled_data[index: index + sequence_length])\n",
        "    \n",
        "result = np.array(result)\n",
        "row = round(0.8 * result.shape[0])\n",
        "training_data_len = int(row)\n",
        "#creating training data\n",
        "train = result[:int(row), :]\n",
        "\n",
        "x_train = train[:, :-1]\n",
        "y_train = train[:, -1][:,-1]\n",
        "x_test = result[int(row):, :-1]\n",
        "y_test = result[int(row):, -1][:,-1]\n",
        "\n",
        "amount_of_features = 1\n",
        "x_train = np.reshape(x_train, (x_train.shape[0], x_train.shape[1], amount_of_features))\n",
        "x_test = np.reshape(x_test, (x_test.shape[0], x_test.shape[1], amount_of_features)) \n",
        "\n",
        "print(\"X_train\", x_train.shape)\n",
        "print(\"y_train\", y_train.shape)\n",
        "print(\"X_test\", x_test.shape)\n",
        "print(\"y_test\", y_test.shape)"
      ],
      "execution_count": null,
      "outputs": [
        {
          "output_type": "stream",
          "text": [
            "X_train (4634, 5, 1)\n",
            "y_train (4634,)\n",
            "X_test (1158, 5, 1)\n",
            "y_test (1158,)\n"
          ],
          "name": "stdout"
        }
      ]
    },
    {
      "cell_type": "code",
      "metadata": {
        "id": "8S5TPY3jcE8e",
        "colab_type": "code",
        "colab": {}
      },
      "source": [
        "model = Sequential()\n",
        "# input = [1,14,1]\n",
        "# model.add(Dense(128,input_shape=(x_train.shape[1],1)))\n",
        "model.add(Conv1D(filters = 128, kernel_size= 1,padding='same', activation='relu',input_shape=(x_train.shape[1],1)))\n",
        "model.add(MaxPooling1D(pool_size=2, padding='valid'))\n",
        "# model.add(Dropout(0.2))\n",
        "model.add(Conv1D(filters = 64,kernel_size = 1,padding='same', activation='relu'))\n",
        "model.add(MaxPooling1D(pool_size=2, padding='valid'))\n",
        "# model.add(Dropout(0.2))\n",
        "model.add(LSTM(32,return_sequences=True))\n",
        "# model.add(Dropout(0.2))\n",
        "model.add(LSTM(16,return_sequences=False))\n",
        "# model.add(Dropout(0.2))\n",
        "model.add(Dense(32, activation=\"relu\", kernel_initializer=\"uniform\"))\n",
        "model.add(Dense(1, activation=\"relu\", kernel_initializer=\"uniform\"))\n",
        "# model.compile(loss='mse',optimizer='adam',metrics=['mse'])\n",
        "model.compile(optimizer=adam, loss='mean_squared_error',metrics=[tf.keras.metrics.RootMeanSquaredError()])"
      ],
      "execution_count": null,
      "outputs": []
    },
    {
      "cell_type": "code",
      "metadata": {
        "id": "nEEBNLxIfnqr",
        "colab_type": "code",
        "colab": {
          "base_uri": "https://localhost:8080/",
          "height": 425
        },
        "outputId": "2ccda47a-63b9-4506-be61-db7715998b59"
      },
      "source": [
        "model.summary()"
      ],
      "execution_count": null,
      "outputs": [
        {
          "output_type": "stream",
          "text": [
            "Model: \"sequential_38\"\n",
            "_________________________________________________________________\n",
            "Layer (type)                 Output Shape              Param #   \n",
            "=================================================================\n",
            "conv1d_69 (Conv1D)           (None, 5, 128)            256       \n",
            "_________________________________________________________________\n",
            "max_pooling1d_68 (MaxPooling (None, 2, 128)            0         \n",
            "_________________________________________________________________\n",
            "conv1d_70 (Conv1D)           (None, 2, 64)             8256      \n",
            "_________________________________________________________________\n",
            "max_pooling1d_69 (MaxPooling (None, 1, 64)             0         \n",
            "_________________________________________________________________\n",
            "lstm_65 (LSTM)               (None, 1, 32)             12416     \n",
            "_________________________________________________________________\n",
            "lstm_66 (LSTM)               (None, 16)                3136      \n",
            "_________________________________________________________________\n",
            "dense_72 (Dense)             (None, 32)                544       \n",
            "_________________________________________________________________\n",
            "dense_73 (Dense)             (None, 1)                 33        \n",
            "=================================================================\n",
            "Total params: 24,641\n",
            "Trainable params: 24,641\n",
            "Non-trainable params: 0\n",
            "_________________________________________________________________\n"
          ],
          "name": "stdout"
        }
      ]
    },
    {
      "cell_type": "code",
      "metadata": {
        "id": "hW4haQ_k-6XO",
        "colab_type": "code",
        "colab": {}
      },
      "source": [
        "# model =Sequential()\n",
        "# model.add(LSTM(64,return_sequences=True, input_shape=(x_train.shape[1],1)))\n",
        "# model.add(Dropout(0.2))\n",
        "# model.add(LSTM(64, return_sequences= False))\n",
        "# model.add(Dropout(0.2))\n",
        "# model.add(Conv2D(64, (3, 3), activation=tf.nn.leaky_relu, padding='same'))\n",
        "# model.add(BatchNormalization())\n",
        "# model.add(Dense(32))\n",
        "# model.add(Dense(1))\n",
        "\n",
        "\n",
        "#Complie the model\n",
        "adam = Adam(lr=0.003)\n",
        "# model.compile(optimizer=adam, loss='mean_squared_error',metrics=[tf.keras.metrics.RootMeanSquaredError()])\n",
        "early_stopping = EarlyStopping(monitor='val_loss', patience=10, verbose=1)\n",
        "\n",
        "reduce_lr = ReduceLROnPlateau(monitor='val_loss', factor=0.3,\n",
        "                              patience=5, min_lr=0.0009)\n",
        "callbacks = [early_stopping, reduce_lr]\n",
        "# callbacks = [reduce_lr]\n"
      ],
      "execution_count": null,
      "outputs": []
    },
    {
      "cell_type": "code",
      "metadata": {
        "id": "tXfLC5fO_KvJ",
        "colab_type": "code",
        "colab": {
          "base_uri": "https://localhost:8080/",
          "height": 938
        },
        "outputId": "7f6eaa19-af3f-4f4d-b149-d18b96286431"
      },
      "source": [
        "model.fit(x_train,y_train, validation_data=(x_test, y_test), callbacks=callbacks,batch_size=100, epochs=100)\n",
        "# model.fit(x_train,y_train, callbacks=callbacks,batch_size=100, epochs=100)"
      ],
      "execution_count": null,
      "outputs": [
        {
          "output_type": "stream",
          "text": [
            "Train on 4634 samples, validate on 1158 samples\n",
            "Epoch 1/100\n",
            "4634/4634 [==============================] - 1s 283us/step - loss: 0.0025 - root_mean_squared_error: 0.0531 - val_loss: 0.2727 - val_root_mean_squared_error: 0.1381\n",
            "Epoch 2/100\n",
            "4634/4634 [==============================] - 0s 66us/step - loss: 0.0010 - root_mean_squared_error: 0.2031 - val_loss: 0.1296 - val_root_mean_squared_error: 0.1847\n",
            "Epoch 3/100\n",
            "4634/4634 [==============================] - 0s 66us/step - loss: 3.7854e-05 - root_mean_squared_error: 0.1864 - val_loss: 0.0859 - val_root_mean_squared_error: 0.1742\n",
            "Epoch 4/100\n",
            "4634/4634 [==============================] - 0s 61us/step - loss: 1.0838e-05 - root_mean_squared_error: 0.1718 - val_loss: 0.0664 - val_root_mean_squared_error: 0.1633\n",
            "Epoch 5/100\n",
            "4634/4634 [==============================] - 0s 62us/step - loss: 8.3211e-06 - root_mean_squared_error: 0.1607 - val_loss: 0.0598 - val_root_mean_squared_error: 0.1544\n",
            "Epoch 6/100\n",
            "4634/4634 [==============================] - 0s 59us/step - loss: 7.3425e-06 - root_mean_squared_error: 0.1525 - val_loss: 0.0589 - val_root_mean_squared_error: 0.1478\n",
            "Epoch 7/100\n",
            "4634/4634 [==============================] - 0s 61us/step - loss: 8.7556e-06 - root_mean_squared_error: 0.1465 - val_loss: 0.0551 - val_root_mean_squared_error: 0.1426\n",
            "Epoch 8/100\n",
            "4634/4634 [==============================] - 0s 61us/step - loss: 7.5428e-06 - root_mean_squared_error: 0.1416 - val_loss: 0.0569 - val_root_mean_squared_error: 0.1385\n",
            "Epoch 9/100\n",
            "4634/4634 [==============================] - 0s 65us/step - loss: 7.3503e-06 - root_mean_squared_error: 0.1379 - val_loss: 0.0578 - val_root_mean_squared_error: 0.1353\n",
            "Epoch 10/100\n",
            "4634/4634 [==============================] - 0s 60us/step - loss: 8.3383e-06 - root_mean_squared_error: 0.1350 - val_loss: 0.0547 - val_root_mean_squared_error: 0.1327\n",
            "Epoch 11/100\n",
            "4634/4634 [==============================] - 0s 61us/step - loss: 8.5675e-06 - root_mean_squared_error: 0.1324 - val_loss: 0.0557 - val_root_mean_squared_error: 0.1304\n",
            "Epoch 12/100\n",
            "4634/4634 [==============================] - 0s 63us/step - loss: 7.5426e-06 - root_mean_squared_error: 0.1302 - val_loss: 0.0529 - val_root_mean_squared_error: 0.1285\n",
            "Epoch 13/100\n",
            "4634/4634 [==============================] - 0s 61us/step - loss: 7.6252e-06 - root_mean_squared_error: 0.1282 - val_loss: 0.0560 - val_root_mean_squared_error: 0.1267\n",
            "Epoch 14/100\n",
            "4634/4634 [==============================] - 0s 61us/step - loss: 7.8768e-06 - root_mean_squared_error: 0.1267 - val_loss: 0.0553 - val_root_mean_squared_error: 0.1253\n",
            "Epoch 15/100\n",
            "4634/4634 [==============================] - 0s 64us/step - loss: 7.5782e-06 - root_mean_squared_error: 0.1253 - val_loss: 0.0518 - val_root_mean_squared_error: 0.1240\n",
            "Epoch 16/100\n",
            "4634/4634 [==============================] - 0s 63us/step - loss: 1.0585e-05 - root_mean_squared_error: 0.1239 - val_loss: 0.0543 - val_root_mean_squared_error: 0.1228\n",
            "Epoch 17/100\n",
            "4634/4634 [==============================] - 0s 60us/step - loss: 7.7507e-06 - root_mean_squared_error: 0.1228 - val_loss: 0.0566 - val_root_mean_squared_error: 0.1218\n",
            "Epoch 18/100\n",
            "4634/4634 [==============================] - 0s 60us/step - loss: 8.0467e-06 - root_mean_squared_error: 0.1219 - val_loss: 0.0579 - val_root_mean_squared_error: 0.1210\n",
            "Epoch 19/100\n",
            "4634/4634 [==============================] - 0s 65us/step - loss: 8.5648e-06 - root_mean_squared_error: 0.1212 - val_loss: 0.0546 - val_root_mean_squared_error: 0.1203\n",
            "Epoch 20/100\n",
            "4634/4634 [==============================] - 0s 67us/step - loss: 8.1442e-06 - root_mean_squared_error: 0.1204 - val_loss: 0.0531 - val_root_mean_squared_error: 0.1195\n",
            "Epoch 21/100\n",
            "4634/4634 [==============================] - 0s 63us/step - loss: 6.4949e-06 - root_mean_squared_error: 0.1196 - val_loss: 0.0537 - val_root_mean_squared_error: 0.1188\n",
            "Epoch 22/100\n",
            "4634/4634 [==============================] - 0s 60us/step - loss: 6.4727e-06 - root_mean_squared_error: 0.1189 - val_loss: 0.0536 - val_root_mean_squared_error: 0.1181\n",
            "Epoch 23/100\n",
            "4634/4634 [==============================] - 0s 65us/step - loss: 6.5772e-06 - root_mean_squared_error: 0.1183 - val_loss: 0.0534 - val_root_mean_squared_error: 0.1175\n",
            "Epoch 24/100\n",
            "4634/4634 [==============================] - 0s 59us/step - loss: 6.6151e-06 - root_mean_squared_error: 0.1177 - val_loss: 0.0526 - val_root_mean_squared_error: 0.1170\n",
            "Epoch 25/100\n",
            "4634/4634 [==============================] - 0s 60us/step - loss: 6.4746e-06 - root_mean_squared_error: 0.1171 - val_loss: 0.0529 - val_root_mean_squared_error: 0.1164\n",
            "Epoch 00025: early stopping\n"
          ],
          "name": "stdout"
        },
        {
          "output_type": "execute_result",
          "data": {
            "text/plain": [
              "<keras.callbacks.callbacks.History at 0x7fc645781ac8>"
            ]
          },
          "metadata": {
            "tags": []
          },
          "execution_count": 285
        }
      ]
    },
    {
      "cell_type": "code",
      "metadata": {
        "id": "BofxJNVTfI3u",
        "colab_type": "code",
        "colab": {}
      },
      "source": [
        "#predicting the data\n",
        "predictions = model.predict(x_test)\n",
        "# print(y_test)\n",
        "y_act = scaler.inverse_transform(y_test.reshape(y_test.shape[0], 1))\n",
        "# print(y_act)\n",
        "predictions = scaler.inverse_transform(predictions)\n",
        "# print(predictions)"
      ],
      "execution_count": null,
      "outputs": []
    },
    {
      "cell_type": "code",
      "metadata": {
        "id": "h9VoSD-TfMkZ",
        "colab_type": "code",
        "colab": {
          "base_uri": "https://localhost:8080/",
          "height": 34
        },
        "outputId": "dc157d7e-d11d-41a2-cda3-546a6f319db1"
      },
      "source": [
        "#get the root mean square error(RMSE)\n",
        "rmse = np.sqrt(np.mean(predictions - y_act)**2)\n",
        "rmse"
      ],
      "execution_count": null,
      "outputs": [
        {
          "output_type": "execute_result",
          "data": {
            "text/plain": [
              "446.40010215247025"
            ]
          },
          "metadata": {
            "tags": []
          },
          "execution_count": 287
        }
      ]
    },
    {
      "cell_type": "code",
      "metadata": {
        "id": "P2ymloilfRAp",
        "colab_type": "code",
        "colab": {
          "base_uri": "https://localhost:8080/",
          "height": 915
        },
        "outputId": "1b5d8fd9-aab5-4962-bb88-d0d3c9881074"
      },
      "source": [
        "#plot the data\n",
        "train = data[:training_data_len]\n",
        "valid = data[training_data_len+6:]\n",
        "print(valid.shape)\n",
        "valid['Predictions'] = predictions\n",
        "#Visialization the data\n",
        "plt.figure(figsize=(16,8))\n",
        "plt.title('Model')\n",
        "plt.xlabel('Date', fontsize=18)\n",
        "plt.ylabel('Close Price' ,fontsize=18)\n",
        "plt.plot(train['Close'],linewidth=1.5)\n",
        "plt.plot(valid[['Close','Predictions']],linewidth=1.5)\n",
        "plt.legend(['Train','Valid','Predictions'], loc='upper_center')"
      ],
      "execution_count": null,
      "outputs": [
        {
          "output_type": "stream",
          "text": [
            "(1158, 1)\n"
          ],
          "name": "stdout"
        },
        {
          "output_type": "stream",
          "text": [
            "/usr/local/lib/python3.6/dist-packages/ipykernel_launcher.py:5: SettingWithCopyWarning: \n",
            "A value is trying to be set on a copy of a slice from a DataFrame.\n",
            "Try using .loc[row_indexer,col_indexer] = value instead\n",
            "\n",
            "See the caveats in the documentation: https://pandas.pydata.org/pandas-docs/stable/user_guide/indexing.html#returning-a-view-versus-a-copy\n",
            "  \"\"\"\n",
            "/usr/local/lib/python3.6/dist-packages/ipykernel_launcher.py:13: MatplotlibDeprecationWarning: Unrecognized location 'upper_center'. Falling back on 'best'; valid locations are\n",
            "\tbest\n",
            "\tupper right\n",
            "\tupper left\n",
            "\tlower left\n",
            "\tlower right\n",
            "\tright\n",
            "\tcenter left\n",
            "\tcenter right\n",
            "\tlower center\n",
            "\tupper center\n",
            "\tcenter\n",
            "This will raise an exception in 3.3.\n",
            "  del sys.path[0]\n"
          ],
          "name": "stderr"
        },
        {
          "output_type": "execute_result",
          "data": {
            "text/plain": [
              "<matplotlib.legend.Legend at 0x7fc6451509e8>"
            ]
          },
          "metadata": {
            "tags": []
          },
          "execution_count": 288
        },
        {
          "output_type": "display_data",
          "data": {
            "image/png": "[encoded data removed]",
            "text/plain": [
              "<Figure size 1152x576 with 1 Axes>"
            ]
          },
          "metadata": {
            "tags": [],
            "needs_background": "light"
          }
        }
      ]
    },
    {
      "cell_type": "code",
      "metadata": {
        "id": "hrNiJbhsfY1L",
        "colab_type": "code",
        "colab": {
          "base_uri": "https://localhost:8080/",
          "height": 337
        },
        "outputId": "29017db9-29fa-4069-a98f-70d3c2a9c4cc"
      },
      "source": [
        "valid['difference'] = valid['Close'] - valid['Predictions']\n",
        "valid.tail()"
      ],
      "execution_count": null,
      "outputs": [
        {
          "output_type": "stream",
          "text": [
            "/usr/local/lib/python3.6/dist-packages/ipykernel_launcher.py:1: SettingWithCopyWarning: \n",
            "A value is trying to be set on a copy of a slice from a DataFrame.\n",
            "Try using .loc[row_indexer,col_indexer] = value instead\n",
            "\n",
            "See the caveats in the documentation: https://pandas.pydata.org/pandas-docs/stable/user_guide/indexing.html#returning-a-view-versus-a-copy\n",
            "  \"\"\"Entry point for launching an IPython kernel.\n"
          ],
          "name": "stderr"
        },
        {
          "output_type": "execute_result",
          "data": {
            "text/html": [
              "<div>\n",
              "<style scoped>\n",
              "    .dataframe tbody tr th:only-of-type {\n",
              "        vertical-align: middle;\n",
              "    }\n",
              "\n",
              "    .dataframe tbody tr th {\n",
              "        vertical-align: top;\n",
              "    }\n",
              "\n",
              "    .dataframe thead th {\n",
              "        text-align: right;\n",
              "    }\n",
              "</style>\n",
              "<table border=\"1\" class=\"dataframe\">\n",
              "  <thead>\n",
              "    <tr style=\"text-align: right;\">\n",
              "      <th></th>\n",
              "      <th>Close</th>\n",
              "      <th>Predictions</th>\n",
              "      <th>difference</th>\n",
              "    </tr>\n",
              "    <tr>\n",
              "      <th>Date</th>\n",
              "      <th></th>\n",
              "      <th></th>\n",
              "      <th></th>\n",
              "    </tr>\n",
              "  </thead>\n",
              "  <tbody>\n",
              "    <tr>\n",
              "      <th>2020-05-22</th>\n",
              "      <td>2436.879883</td>\n",
              "      <td>1108.566406</td>\n",
              "      <td>1328.313477</td>\n",
              "    </tr>\n",
              "    <tr>\n",
              "      <th>2020-05-26</th>\n",
              "      <td>2421.860107</td>\n",
              "      <td>1113.667969</td>\n",
              "      <td>1308.192138</td>\n",
              "    </tr>\n",
              "    <tr>\n",
              "      <th>2020-05-27</th>\n",
              "      <td>2410.389893</td>\n",
              "      <td>1113.667969</td>\n",
              "      <td>1296.721924</td>\n",
              "    </tr>\n",
              "    <tr>\n",
              "      <th>2020-05-28</th>\n",
              "      <td>2401.100098</td>\n",
              "      <td>1113.667969</td>\n",
              "      <td>1287.432129</td>\n",
              "    </tr>\n",
              "    <tr>\n",
              "      <th>2020-05-29</th>\n",
              "      <td>2442.370117</td>\n",
              "      <td>1113.667969</td>\n",
              "      <td>1328.702148</td>\n",
              "    </tr>\n",
              "  </tbody>\n",
              "</table>\n",
              "</div>"
            ],
            "text/plain": [
              "                  Close  Predictions   difference\n",
              "Date                                             \n",
              "2020-05-22  2436.879883  1108.566406  1328.313477\n",
              "2020-05-26  2421.860107  1113.667969  1308.192138\n",
              "2020-05-27  2410.389893  1113.667969  1296.721924\n",
              "2020-05-28  2401.100098  1113.667969  1287.432129\n",
              "2020-05-29  2442.370117  1113.667969  1328.702148"
            ]
          },
          "metadata": {
            "tags": []
          },
          "execution_count": 289
        }
      ]
    },
    {
      "cell_type": "code",
      "metadata": {
        "id": "S3pqYMxZcGA4",
        "colab_type": "code",
        "colab": {}
      },
      "source": [
        ""
      ],
      "execution_count": null,
      "outputs": []
    }
  ]
}