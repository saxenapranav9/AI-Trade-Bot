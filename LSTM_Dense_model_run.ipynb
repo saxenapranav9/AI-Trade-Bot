{
 "cells": [
  {
   "cell_type": "code",
   "execution_count": 1,
   "metadata": {
    "colab": {
     "base_uri": "https://localhost:8080/",
     "height": 88
    },
    "colab_type": "code",
    "id": "0Fl0rL_gqLXZ",
    "outputId": "5740c2a3-6e77-45c4-d0a1-1451d1f76013"
   },
   "outputs": [
    {
     "name": "stderr",
     "output_type": "stream",
     "text": [
      "Using TensorFlow backend.\n"
     ]
    }
   ],
   "source": [
    "import numpy as np # linear algebra\n",
    "import pandas as pd # data processing, CSV file I/O (e.g. pd.read_csv)\n",
    "import matplotlib.pyplot as plt\n",
    "# import pandas_datareader as web\n",
    "from sklearn.preprocessing import MinMaxScaler\n",
    "from keras.models import Sequential\n",
    "from keras.layers import Dense, LSTM\n",
    "import math\n",
    "import tensorflow as tf\n",
    "from tensorflow.keras.metrics import RootMeanSquaredError\n",
    "from keras import regularizers\n",
    "from keras.layers import Dropout, Activation\n",
    "from keras.callbacks import *\n",
    "from keras.optimizers import Adam\n",
    "from datetime import date, datetime,timedelta\n",
    "# # from google.colab import files\n",
    "# import io\n",
    "from keras.models import load_model"
   ]
  },
  {
   "cell_type": "code",
   "execution_count": 2,
   "metadata": {
    "colab": {
     "base_uri": "https://localhost:8080/",
     "height": 272
    },
    "colab_type": "code",
    "id": "DpJd1yiy5MiJ",
    "outputId": "3e983e80-d116-4588-d8c8-4886118ce14b"
   },
   "outputs": [
    {
     "name": "stdout",
     "output_type": "stream",
     "text": [
      "Enter 1 for Accenture\n",
      "\n",
      "Enter 2 for Amazon\n",
      "\n",
      "Enter 3 for Cisco\n",
      "\n",
      "Enter 4 for Dell\n",
      "\n",
      "Enter 5 for Facebook\n",
      "\n",
      "Enter 6 for Uber\n",
      "\n",
      "Enter 7 for Verizon\n",
      "\n",
      "Enter choice:7\n"
     ]
    }
   ],
   "source": [
    "print('Enter 1 for Accenture\\n')\n",
    "print('Enter 2 for Amazon\\n')\n",
    "print('Enter 3 for Cisco\\n')\n",
    "print('Enter 4 for Dell\\n')\n",
    "print('Enter 5 for Facebook\\n')\n",
    "print('Enter 6 for Uber\\n')\n",
    "print('Enter 7 for Verizon\\n')\n",
    "stock_name = int(input(\"Enter choice:\"))\n",
    "# stock_name"
   ]
  },
  {
   "cell_type": "code",
   "execution_count": 3,
   "metadata": {},
   "outputs": [],
   "source": [
    "def load_file(stock_name):\n",
    "    if stock_name == 1:\n",
    "      df2 = pd.read_csv('/Users/pranavsaxena/Desktop/Python/Dissertation-Datasets/ACN.csv')  \n",
    "      ticker = 'ACN'  \n",
    "#       news_df = get_news(df2,ticker)\n",
    "    elif stock_name == 2: \n",
    "      df2 = pd.read_csv('/Users/pranavsaxena/Desktop/Python/Dissertation-Datasets/AMZN.csv')  \n",
    "      ticker = 'AMZN'\n",
    "#       news_df = get_news(df2,ticker)\n",
    "    elif stock_name == 3:\n",
    "      df2 = pd.read_csv('/Users/pranavsaxena/Desktop/Python/Dissertation-Datasets/CSCO.csv')  \n",
    "      ticker = 'CSCO'\n",
    "#       news_df = get_news(df2,ticker)\n",
    "    elif stock_name == 4:  \n",
    "      df2 = pd.read_csv('/Users/pranavsaxena/Desktop/Python/Dissertation-Datasets/DELL.csv')  \n",
    "      ticker = 'DELL'\n",
    "#       news_df = get_news(df2,ticker)\n",
    "    elif stock_name == 5:  \n",
    "      df2 = pd.read_csv('/Users/pranavsaxena/Desktop/Python/Dissertation-Datasets/FB.csv')  \n",
    "      ticker = 'FB'\n",
    "#       news_df = get_news(df2,ticker)\n",
    "    elif stock_name == 6:  \n",
    "      df2 = pd.read_csv('/Users/pranavsaxena/Desktop/Python/Dissertation-Datasets/UBER.csv')  \n",
    "      ticker = 'UBER'\n",
    "#       news_df = get_news(df2,ticker)\n",
    "    elif stock_name == 7:  \n",
    "      df2 = pd.read_csv('/Users/pranavsaxena/Desktop/Python/Dissertation-Datasets/VZ.csv')  \n",
    "      ticker = 'VZ'\n",
    "#       news_df = get_news(df2,ticker)\n",
    "    \n",
    "#     return (news_df,ticker)\n",
    "    return (df2,ticker)"
   ]
  },
  {
   "cell_type": "code",
   "execution_count": 4,
   "metadata": {},
   "outputs": [],
   "source": [
    "df2,ticker = load_file(stock_name)"
   ]
  },
  {
   "cell_type": "code",
   "execution_count": 5,
   "metadata": {
    "colab": {
     "base_uri": "https://localhost:8080/",
     "height": 204
    },
    "colab_type": "code",
    "id": "phpdmyG0Y0dO",
    "outputId": "79a3ee86-941a-4461-aea9-bef5e4bcb593"
   },
   "outputs": [],
   "source": [
    "# news_df.tail()"
   ]
  },
  {
   "cell_type": "code",
   "execution_count": 6,
   "metadata": {
    "colab": {},
    "colab_type": "code",
    "id": "EVc6rqKLqw1W"
   },
   "outputs": [],
   "source": [
    "df2['Date'] = pd.to_datetime(df2['Date'])\n",
    "df2.set_index('Date',inplace=True)"
   ]
  },
  {
   "cell_type": "code",
   "execution_count": 7,
   "metadata": {
    "colab": {
     "base_uri": "https://localhost:8080/",
     "height": 235
    },
    "colab_type": "code",
    "id": "ECJlbg2E4Ftc",
    "outputId": "9cb12a76-2b84-4f3e-8c50-fd6dd00a7fc8"
   },
   "outputs": [
    {
     "data": {
      "text/html": [
       "<div>\n",
       "<style scoped>\n",
       "    .dataframe tbody tr th:only-of-type {\n",
       "        vertical-align: middle;\n",
       "    }\n",
       "\n",
       "    .dataframe tbody tr th {\n",
       "        vertical-align: top;\n",
       "    }\n",
       "\n",
       "    .dataframe thead th {\n",
       "        text-align: right;\n",
       "    }\n",
       "</style>\n",
       "<table border=\"1\" class=\"dataframe\">\n",
       "  <thead>\n",
       "    <tr style=\"text-align: right;\">\n",
       "      <th></th>\n",
       "      <th>Open</th>\n",
       "      <th>High</th>\n",
       "      <th>Low</th>\n",
       "      <th>Close</th>\n",
       "      <th>Adj Close</th>\n",
       "      <th>Volume</th>\n",
       "    </tr>\n",
       "    <tr>\n",
       "      <th>Date</th>\n",
       "      <th></th>\n",
       "      <th></th>\n",
       "      <th></th>\n",
       "      <th></th>\n",
       "      <th></th>\n",
       "      <th></th>\n",
       "    </tr>\n",
       "  </thead>\n",
       "  <tbody>\n",
       "    <tr>\n",
       "      <td>2020-07-13</td>\n",
       "      <td>54.750000</td>\n",
       "      <td>54.770000</td>\n",
       "      <td>54.139999</td>\n",
       "      <td>54.450001</td>\n",
       "      <td>54.450001</td>\n",
       "      <td>15285100</td>\n",
       "    </tr>\n",
       "    <tr>\n",
       "      <td>2020-07-14</td>\n",
       "      <td>54.430000</td>\n",
       "      <td>55.650002</td>\n",
       "      <td>54.270000</td>\n",
       "      <td>55.439999</td>\n",
       "      <td>55.439999</td>\n",
       "      <td>15683600</td>\n",
       "    </tr>\n",
       "    <tr>\n",
       "      <td>2020-07-15</td>\n",
       "      <td>55.610001</td>\n",
       "      <td>55.720001</td>\n",
       "      <td>55.020000</td>\n",
       "      <td>55.060001</td>\n",
       "      <td>55.060001</td>\n",
       "      <td>13903600</td>\n",
       "    </tr>\n",
       "    <tr>\n",
       "      <td>2020-07-16</td>\n",
       "      <td>54.869999</td>\n",
       "      <td>55.830002</td>\n",
       "      <td>54.759998</td>\n",
       "      <td>55.779999</td>\n",
       "      <td>55.779999</td>\n",
       "      <td>13477400</td>\n",
       "    </tr>\n",
       "    <tr>\n",
       "      <td>2020-07-17</td>\n",
       "      <td>56.000000</td>\n",
       "      <td>56.599998</td>\n",
       "      <td>55.889999</td>\n",
       "      <td>56.299999</td>\n",
       "      <td>56.299999</td>\n",
       "      <td>13506300</td>\n",
       "    </tr>\n",
       "  </tbody>\n",
       "</table>\n",
       "</div>"
      ],
      "text/plain": [
       "                 Open       High        Low      Close  Adj Close    Volume\n",
       "Date                                                                       \n",
       "2020-07-13  54.750000  54.770000  54.139999  54.450001  54.450001  15285100\n",
       "2020-07-14  54.430000  55.650002  54.270000  55.439999  55.439999  15683600\n",
       "2020-07-15  55.610001  55.720001  55.020000  55.060001  55.060001  13903600\n",
       "2020-07-16  54.869999  55.830002  54.759998  55.779999  55.779999  13477400\n",
       "2020-07-17  56.000000  56.599998  55.889999  56.299999  56.299999  13506300"
      ]
     },
     "execution_count": 7,
     "metadata": {},
     "output_type": "execute_result"
    }
   ],
   "source": [
    "df2.tail()"
   ]
  },
  {
   "cell_type": "code",
   "execution_count": 8,
   "metadata": {
    "colab": {
     "base_uri": "https://localhost:8080/",
     "height": 521
    },
    "colab_type": "code",
    "id": "OHp0JpGrq7Ib",
    "outputId": "47d467a4-14c9-4dc5-f5c9-ba1c2b579b69"
   },
   "outputs": [
    {
     "name": "stderr",
     "output_type": "stream",
     "text": [
      "/Library/Frameworks/Python.framework/Versions/3.7/lib/python3.7/site-packages/pandas/plotting/_matplotlib/converter.py:103: FutureWarning: Using an implicitly registered datetime converter for a matplotlib plotting method. The converter was registered by pandas on import. Future versions of pandas will require you to explicitly register matplotlib converters.\n",
      "\n",
      "To register the converters:\n",
      "\t>>> from pandas.plotting import register_matplotlib_converters\n",
      "\t>>> register_matplotlib_converters()\n",
      "  warnings.warn(msg, FutureWarning)\n"
     ]
    },
    {
     "data": {
      "image/png": "[encoded data removed]",
      "text/plain": [
       "<Figure size 1152x576 with 1 Axes>"
      ]
     },
     "metadata": {
      "needs_background": "light"
     },
     "output_type": "display_data"
    }
   ],
   "source": [
    "#plotting the data\n",
    "plt.figure(figsize=(16,8))\n",
    "plt.title('Close Price History')\n",
    "plt.plot(df2['Close'][:-1], color='red')\n",
    "plt.xlabel('Date', fontsize=18)\n",
    "plt.ylabel('Close Price USD', fontsize = 18)\n",
    "plt.show()"
   ]
  },
  {
   "cell_type": "code",
   "execution_count": 13,
   "metadata": {
    "colab": {
     "base_uri": "https://localhost:8080/",
     "height": 269
    },
    "colab_type": "code",
    "id": "1oBNV9cFrHe5",
    "outputId": "896e67a8-afa3-4856-e5b4-be09c29f2249"
   },
   "outputs": [
    {
     "data": {
      "text/html": [
       "<div>\n",
       "<style scoped>\n",
       "    .dataframe tbody tr th:only-of-type {\n",
       "        vertical-align: middle;\n",
       "    }\n",
       "\n",
       "    .dataframe tbody tr th {\n",
       "        vertical-align: top;\n",
       "    }\n",
       "\n",
       "    .dataframe thead th {\n",
       "        text-align: right;\n",
       "    }\n",
       "</style>\n",
       "<table border=\"1\" class=\"dataframe\">\n",
       "  <thead>\n",
       "    <tr style=\"text-align: right;\">\n",
       "      <th></th>\n",
       "      <th>Open</th>\n",
       "      <th>Close</th>\n",
       "    </tr>\n",
       "  </thead>\n",
       "  <tbody>\n",
       "    <tr>\n",
       "      <td>count</td>\n",
       "      <td>9240.000000</td>\n",
       "      <td>9240.000000</td>\n",
       "    </tr>\n",
       "    <tr>\n",
       "      <td>mean</td>\n",
       "      <td>33.645192</td>\n",
       "      <td>33.651917</td>\n",
       "    </tr>\n",
       "    <tr>\n",
       "      <td>std</td>\n",
       "      <td>13.666914</td>\n",
       "      <td>13.667274</td>\n",
       "    </tr>\n",
       "    <tr>\n",
       "      <td>min</td>\n",
       "      <td>7.321049</td>\n",
       "      <td>7.321049</td>\n",
       "    </tr>\n",
       "    <tr>\n",
       "      <td>25%</td>\n",
       "      <td>23.269976</td>\n",
       "      <td>23.269976</td>\n",
       "    </tr>\n",
       "    <tr>\n",
       "      <td>50%</td>\n",
       "      <td>32.372808</td>\n",
       "      <td>32.326156</td>\n",
       "    </tr>\n",
       "    <tr>\n",
       "      <td>75%</td>\n",
       "      <td>46.250000</td>\n",
       "      <td>46.279999</td>\n",
       "    </tr>\n",
       "    <tr>\n",
       "      <td>max</td>\n",
       "      <td>62.009998</td>\n",
       "      <td>62.502930</td>\n",
       "    </tr>\n",
       "  </tbody>\n",
       "</table>\n",
       "</div>"
      ],
      "text/plain": [
       "              Open        Close\n",
       "count  9240.000000  9240.000000\n",
       "mean     33.645192    33.651917\n",
       "std      13.666914    13.667274\n",
       "min       7.321049     7.321049\n",
       "25%      23.269976    23.269976\n",
       "50%      32.372808    32.326156\n",
       "75%      46.250000    46.279999\n",
       "max      62.009998    62.502930"
      ]
     },
     "execution_count": 13,
     "metadata": {},
     "output_type": "execute_result"
    }
   ],
   "source": [
    "# create a new data frame with only 'Close column'\n",
    "data = df2.filter(['Open','Close'])\n",
    "dataset = data\n",
    "dataset.describe()"
   ]
  },
  {
   "cell_type": "code",
   "execution_count": 252,
   "metadata": {
    "colab": {},
    "colab_type": "code",
    "id": "ufiHJgD37xkT"
   },
   "outputs": [],
   "source": [
    "def scale_data(data):\n",
    "    scaler = MinMaxScaler()\n",
    "    data = scaler.fit_transform(data.values.reshape(data.shape[0], 1))\n",
    "    return data, scaler"
   ]
  },
  {
   "cell_type": "code",
   "execution_count": 253,
   "metadata": {},
   "outputs": [],
   "source": [
    "data,scaler = scale_data(data)"
   ]
  },
  {
   "cell_type": "code",
   "execution_count": 254,
   "metadata": {
    "colab": {},
    "colab_type": "code",
    "id": "1Rv2Icir8A-g"
   },
   "outputs": [],
   "source": [
    "def processData(data,lb):\n",
    "    X,Y = [],[]\n",
    "    for i in range(len(data)-lb-1):\n",
    "        X.append(data[i:(i+lb),0])\n",
    "        Y.append(data[(i+lb+1),0])\n",
    "    return np.array(X),np.array(Y)"
   ]
  },
  {
   "cell_type": "code",
   "execution_count": 255,
   "metadata": {
    "colab": {},
    "colab_type": "code",
    "id": "XJRyxt8r8EpL",
    "scrolled": true
   },
   "outputs": [
    {
     "name": "stdout",
     "output_type": "stream",
     "text": [
      "(9233, 6) (9233,)\n"
     ]
    }
   ],
   "source": [
    "# look_back = 60\n",
    "look_back = 6\n",
    "X,y = processData(data,look_back)\n",
    "print(X.shape,y.shape)"
   ]
  },
  {
   "cell_type": "code",
   "execution_count": 256,
   "metadata": {
    "colab": {
     "base_uri": "https://localhost:8080/",
     "height": 85
    },
    "colab_type": "code",
    "id": "DtI3FQKw8H_w",
    "outputId": "51f53204-3744-4f27-e46d-74c4ed12ae31"
   },
   "outputs": [],
   "source": [
    "def test_train_split(X,y,train_pct):\n",
    "\n",
    "    x_train,x_test = X[:int(X.shape[0]*train_pct)],X[int(X.shape[0]*train_pct):]\n",
    "    y_train,y_test = y[:int(y.shape[0]*train_pct)],y[int(y.shape[0]*train_pct):]\n",
    "\n",
    "    return (x_train,y_train,x_test,y_test)"
   ]
  },
  {
   "cell_type": "code",
   "execution_count": 257,
   "metadata": {},
   "outputs": [
    {
     "name": "stdout",
     "output_type": "stream",
     "text": [
      "(9233, 6, 1)\n",
      "(0, 6, 1)\n",
      "(9233,)\n",
      "(0,)\n"
     ]
    }
   ],
   "source": [
    "#Reshape data into (Sample,Timestep,Features) \n",
    "x_train,y_train,x_test,y_test = test_train_split(X,y,1)\n",
    "x_train = x_train.reshape((x_train.shape[0],x_train.shape[1],1))\n",
    "x_test = x_test.reshape((x_test.shape[0],x_test.shape[1],1))\n",
    "print(x_train.shape)\n",
    "print(x_test.shape)\n",
    "print(y_train.shape)\n",
    "print(y_test.shape)"
   ]
  },
  {
   "cell_type": "code",
   "execution_count": 258,
   "metadata": {
    "colab": {},
    "colab_type": "code",
    "id": "hW4haQ_k-6XO"
   },
   "outputs": [],
   "source": [
    "def run_model(input):\n",
    "    model =Sequential()\n",
    "#     model.add(LSTM(128,return_sequences=True, input_shape=(x_train.shape[1],1)))\n",
    "    model.add(LSTM(128,return_sequences=True, input_shape=input)) \n",
    "    model.add(Dropout(0.2))\n",
    "    model.add(LSTM(64, return_sequences= False))\n",
    "    model.add(Dropout(0.2))\n",
    "    model.add(Dense(32))\n",
    "    model.add(Dense(1))\n",
    "\n",
    "    #Complie the model\n",
    "    adam = Adam(lr=0.003)\n",
    "    model.compile(optimizer=adam, loss='mean_squared_error')#,metrics=[tf.keras.metrics.RootMeanSquaredError()])\n",
    "    early_stopping = EarlyStopping(monitor='val_loss', patience=10, verbose=1)\n",
    "\n",
    "    reduce_lr = ReduceLROnPlateau(monitor='val_loss', factor=0.3,\n",
    "                                  patience=5, min_lr=0.0009)\n",
    "    callbacks = [early_stopping, reduce_lr]\n",
    "    model.fit(x_train,y_train, callbacks=callbacks,batch_size=250, epochs=100)\n",
    "    return model"
   ]
  },
  {
   "cell_type": "code",
   "execution_count": 259,
   "metadata": {
    "colab": {
     "base_uri": "https://localhost:8080/",
     "height": 357
    },
    "colab_type": "code",
    "id": "CDRLB-vmN3tB",
    "outputId": "15787ed3-5014-42b9-854f-db1071542be8",
    "scrolled": true
   },
   "outputs": [
    {
     "name": "stdout",
     "output_type": "stream",
     "text": [
      "Epoch 1/100\n",
      "9233/9233 [==============================] - 3s 343us/step - loss: 0.0234\n",
      "Epoch 2/100\n",
      " 750/9233 [=>............................] - ETA: 2s - loss: 0.0028"
     ]
    },
    {
     "name": "stderr",
     "output_type": "stream",
     "text": [
      "/Library/Frameworks/Python.framework/Versions/3.7/lib/python3.7/site-packages/keras/callbacks/callbacks.py:846: RuntimeWarning: Early stopping conditioned on metric `val_loss` which is not available. Available metrics are: loss\n",
      "  (self.monitor, ','.join(list(logs.keys()))), RuntimeWarning\n",
      "/Library/Frameworks/Python.framework/Versions/3.7/lib/python3.7/site-packages/keras/callbacks/callbacks.py:1042: RuntimeWarning: Reduce LR on plateau conditioned on metric `val_loss` which is not available. Available metrics are: loss,lr\n",
      "  (self.monitor, ','.join(list(logs.keys()))), RuntimeWarning\n"
     ]
    },
    {
     "name": "stdout",
     "output_type": "stream",
     "text": [
      "9233/9233 [==============================] - 2s 228us/step - loss: 0.0020\n",
      "Epoch 3/100\n",
      "9233/9233 [==============================] - 2s 250us/step - loss: 0.0016\n",
      "Epoch 4/100\n",
      "9233/9233 [==============================] - 2s 226us/step - loss: 0.0013\n",
      "Epoch 5/100\n",
      "9233/9233 [==============================] - 2s 224us/step - loss: 0.0011\n",
      "Epoch 6/100\n",
      "9233/9233 [==============================] - 2s 225us/step - loss: 0.0010\n",
      "Epoch 7/100\n",
      "9233/9233 [==============================] - 2s 248us/step - loss: 9.2888e-04\n",
      "Epoch 8/100\n",
      "9233/9233 [==============================] - 2s 223us/step - loss: 8.4200e-04\n",
      "Epoch 9/100\n",
      "9233/9233 [==============================] - 2s 226us/step - loss: 8.3160e-04\n",
      "Epoch 10/100\n",
      "9233/9233 [==============================] - 2s 223us/step - loss: 7.9165e-04\n",
      "Epoch 11/100\n",
      "9233/9233 [==============================] - 2s 224us/step - loss: 8.0401e-04\n",
      "Epoch 12/100\n",
      "9233/9233 [==============================] - 2s 228us/step - loss: 6.8896e-04\n",
      "Epoch 13/100\n",
      "9233/9233 [==============================] - 2s 228us/step - loss: 6.8934e-04\n",
      "Epoch 14/100\n",
      "9233/9233 [==============================] - 2s 224us/step - loss: 6.5881e-04\n",
      "Epoch 15/100\n",
      "9233/9233 [==============================] - 2s 225us/step - loss: 6.8909e-04\n",
      "Epoch 16/100\n",
      "9233/9233 [==============================] - 2s 228us/step - loss: 6.4181e-04\n",
      "Epoch 17/100\n",
      "9233/9233 [==============================] - 2s 230us/step - loss: 6.4146e-04\n",
      "Epoch 18/100\n",
      "9233/9233 [==============================] - 2s 235us/step - loss: 6.2903e-04\n",
      "Epoch 19/100\n",
      "9233/9233 [==============================] - 2s 227us/step - loss: 6.2102e-04\n",
      "Epoch 20/100\n",
      "9233/9233 [==============================] - 2s 226us/step - loss: 6.4131e-04\n",
      "Epoch 21/100\n",
      "9233/9233 [==============================] - 2s 225us/step - loss: 6.4502e-04\n",
      "Epoch 22/100\n",
      "9233/9233 [==============================] - 2s 229us/step - loss: 6.6211e-04\n",
      "Epoch 23/100\n",
      "9233/9233 [==============================] - 2s 262us/step - loss: 6.2967e-04\n",
      "Epoch 24/100\n",
      "9233/9233 [==============================] - 2s 226us/step - loss: 6.1587e-04\n",
      "Epoch 25/100\n",
      "9233/9233 [==============================] - 2s 228us/step - loss: 6.0823e-04\n",
      "Epoch 26/100\n",
      "9233/9233 [==============================] - 2s 229us/step - loss: 6.2588e-04\n",
      "Epoch 27/100\n",
      "9233/9233 [==============================] - 3s 280us/step - loss: 5.8824e-04\n",
      "Epoch 28/100\n",
      "9233/9233 [==============================] - 2s 230us/step - loss: 6.0679e-04\n",
      "Epoch 29/100\n",
      "9233/9233 [==============================] - 2s 227us/step - loss: 6.2244e-04\n",
      "Epoch 30/100\n",
      "9233/9233 [==============================] - 2s 229us/step - loss: 5.8851e-04\n",
      "Epoch 31/100\n",
      "9233/9233 [==============================] - 2s 231us/step - loss: 5.8117e-04\n",
      "Epoch 32/100\n",
      "9233/9233 [==============================] - 2s 226us/step - loss: 5.7522e-04\n",
      "Epoch 33/100\n",
      "9233/9233 [==============================] - 2s 227us/step - loss: 5.6129e-04\n",
      "Epoch 34/100\n",
      "9233/9233 [==============================] - 2s 226us/step - loss: 6.1115e-04\n",
      "Epoch 35/100\n",
      "9233/9233 [==============================] - 2s 226us/step - loss: 6.2704e-04\n",
      "Epoch 36/100\n",
      "9233/9233 [==============================] - 2s 227us/step - loss: 6.0339e-04\n",
      "Epoch 37/100\n",
      "9233/9233 [==============================] - 2s 227us/step - loss: 5.8652e-04\n",
      "Epoch 38/100\n",
      "9233/9233 [==============================] - 2s 229us/step - loss: 5.8714e-04\n",
      "Epoch 39/100\n",
      "9233/9233 [==============================] - 2s 227us/step - loss: 6.1653e-04\n",
      "Epoch 40/100\n",
      "9233/9233 [==============================] - 2s 229us/step - loss: 5.5825e-04\n",
      "Epoch 41/100\n",
      "9233/9233 [==============================] - 2s 227us/step - loss: 6.7412e-04\n",
      "Epoch 42/100\n",
      "9233/9233 [==============================] - 2s 227us/step - loss: 6.1979e-04\n",
      "Epoch 43/100\n",
      "9233/9233 [==============================] - 2s 228us/step - loss: 5.6525e-04\n",
      "Epoch 44/100\n",
      "9233/9233 [==============================] - 2s 236us/step - loss: 5.7548e-04\n",
      "Epoch 45/100\n",
      "9233/9233 [==============================] - 2s 229us/step - loss: 5.6772e-04\n",
      "Epoch 46/100\n",
      "9233/9233 [==============================] - 2s 227us/step - loss: 5.7821e-04\n",
      "Epoch 47/100\n",
      "9233/9233 [==============================] - 2s 228us/step - loss: 5.7379e-04\n",
      "Epoch 48/100\n",
      "9233/9233 [==============================] - 2s 229us/step - loss: 6.2806e-04\n",
      "Epoch 49/100\n",
      "9233/9233 [==============================] - 2s 229us/step - loss: 5.6807e-04\n",
      "Epoch 50/100\n",
      "9233/9233 [==============================] - 2s 229us/step - loss: 5.5253e-04\n",
      "Epoch 51/100\n",
      "9233/9233 [==============================] - 2s 235us/step - loss: 5.6245e-04\n",
      "Epoch 52/100\n",
      "9233/9233 [==============================] - 2s 228us/step - loss: 5.7952e-04\n",
      "Epoch 53/100\n",
      "9233/9233 [==============================] - 2s 228us/step - loss: 5.2448e-04\n",
      "Epoch 54/100\n",
      "9233/9233 [==============================] - 2s 230us/step - loss: 5.5899e-04\n",
      "Epoch 55/100\n",
      "9233/9233 [==============================] - 2s 228us/step - loss: 5.8394e-04\n",
      "Epoch 56/100\n",
      "9233/9233 [==============================] - 2s 254us/step - loss: 5.5411e-04\n",
      "Epoch 57/100\n",
      "9233/9233 [==============================] - 2s 230us/step - loss: 5.4675e-04\n",
      "Epoch 58/100\n",
      "9233/9233 [==============================] - 2s 230us/step - loss: 5.4808e-04\n",
      "Epoch 59/100\n",
      "9233/9233 [==============================] - 2s 235us/step - loss: 5.3490e-04\n",
      "Epoch 60/100\n",
      "9233/9233 [==============================] - 2s 230us/step - loss: 5.3028e-04\n",
      "Epoch 61/100\n",
      "9233/9233 [==============================] - 2s 230us/step - loss: 5.6258e-04\n",
      "Epoch 62/100\n",
      "9233/9233 [==============================] - 2s 229us/step - loss: 5.3956e-04\n",
      "Epoch 63/100\n",
      "9233/9233 [==============================] - 2s 230us/step - loss: 5.5534e-04\n",
      "Epoch 64/100\n",
      "9233/9233 [==============================] - 2s 230us/step - loss: 5.2943e-04\n",
      "Epoch 65/100\n",
      "9233/9233 [==============================] - 2s 233us/step - loss: 5.3053e-04\n",
      "Epoch 66/100\n",
      "9233/9233 [==============================] - 2s 238us/step - loss: 5.4136e-04\n",
      "Epoch 67/100\n",
      "9233/9233 [==============================] - 2s 231us/step - loss: 5.2926e-04\n",
      "Epoch 68/100\n",
      "9233/9233 [==============================] - 2s 235us/step - loss: 5.3050e-04\n",
      "Epoch 69/100\n",
      "9233/9233 [==============================] - 2s 230us/step - loss: 5.2759e-04\n",
      "Epoch 70/100\n",
      "9233/9233 [==============================] - 2s 242us/step - loss: 5.6115e-04\n",
      "Epoch 71/100\n",
      "9233/9233 [==============================] - 3s 287us/step - loss: 5.6264e-04\n",
      "Epoch 72/100\n",
      "9233/9233 [==============================] - 2s 243us/step - loss: 5.6440e-04\n",
      "Epoch 73/100\n",
      "9233/9233 [==============================] - 2s 230us/step - loss: 5.6499e-04\n",
      "Epoch 74/100\n",
      "9233/9233 [==============================] - 2s 234us/step - loss: 5.1919e-04\n",
      "Epoch 75/100\n",
      "9233/9233 [==============================] - 2s 235us/step - loss: 5.1995e-04\n",
      "Epoch 76/100\n",
      "9233/9233 [==============================] - 2s 230us/step - loss: 5.3767e-04\n",
      "Epoch 77/100\n",
      "9233/9233 [==============================] - 2s 230us/step - loss: 5.7399e-04\n",
      "Epoch 78/100\n",
      "9233/9233 [==============================] - 2s 230us/step - loss: 5.5851e-04\n",
      "Epoch 79/100\n",
      "9233/9233 [==============================] - 2s 242us/step - loss: 5.8488e-04\n",
      "Epoch 80/100\n",
      "9233/9233 [==============================] - 2s 237us/step - loss: 5.3805e-04\n",
      "Epoch 81/100\n",
      "9233/9233 [==============================] - 2s 230us/step - loss: 5.2577e-04\n",
      "Epoch 82/100\n",
      "9233/9233 [==============================] - 2s 232us/step - loss: 5.3745e-04\n",
      "Epoch 83/100\n",
      "9233/9233 [==============================] - 2s 237us/step - loss: 5.4739e-04\n",
      "Epoch 84/100\n",
      "9233/9233 [==============================] - 2s 230us/step - loss: 5.1559e-04\n",
      "Epoch 85/100\n",
      "9233/9233 [==============================] - 2s 240us/step - loss: 5.3281e-04\n",
      "Epoch 86/100\n",
      "9233/9233 [==============================] - 2s 236us/step - loss: 5.7716e-04\n",
      "Epoch 87/100\n",
      "9233/9233 [==============================] - 2s 231us/step - loss: 5.7509e-04\n",
      "Epoch 88/100\n",
      "9233/9233 [==============================] - 2s 230us/step - loss: 5.6479e-04\n",
      "Epoch 89/100\n",
      "9233/9233 [==============================] - 2s 230us/step - loss: 5.1682e-04\n",
      "Epoch 90/100\n",
      "9233/9233 [==============================] - 2s 234us/step - loss: 5.6407e-04\n",
      "Epoch 91/100\n",
      "9233/9233 [==============================] - 3s 281us/step - loss: 5.5626e-04\n",
      "Epoch 92/100\n",
      "9233/9233 [==============================] - 3s 297us/step - loss: 5.5691e-04\n",
      "Epoch 93/100\n",
      "9233/9233 [==============================] - 3s 306us/step - loss: 5.4803e-04\n",
      "Epoch 94/100\n",
      "9233/9233 [==============================] - 4s 393us/step - loss: 5.6580e-04\n",
      "Epoch 95/100\n",
      "9233/9233 [==============================] - 4s 391us/step - loss: 5.5603e-04\n",
      "Epoch 96/100\n",
      "9233/9233 [==============================] - 4s 418us/step - loss: 5.6323e-04\n",
      "Epoch 97/100\n",
      "9233/9233 [==============================] - 3s 375us/step - loss: 5.7241e-04\n",
      "Epoch 98/100\n",
      "9233/9233 [==============================] - 2s 221us/step - loss: 5.6775e-04\n",
      "Epoch 99/100\n",
      "9233/9233 [==============================] - 2s 200us/step - loss: 5.3866e-04\n",
      "Epoch 100/100\n",
      "9233/9233 [==============================] - 2s 203us/step - loss: 5.1451e-04\n"
     ]
    }
   ],
   "source": [
    "model = run_model((x_train.shape[1],1))"
   ]
  },
  {
   "cell_type": "code",
   "execution_count": 260,
   "metadata": {
    "colab": {},
    "colab_type": "code",
    "id": "ioAT5eauHUpy"
   },
   "outputs": [],
   "source": [
    "def model_save(model,ticker):\n",
    "    model.save(\"/Users/pranavsaxena/Desktop/Python/saved_model/model_\"+ticker+\"open.h5\")    "
   ]
  },
  {
   "cell_type": "code",
   "execution_count": 261,
   "metadata": {
    "scrolled": true
   },
   "outputs": [
    {
     "name": "stdout",
     "output_type": "stream",
     "text": [
      "done\n"
     ]
    }
   ],
   "source": [
    "model_save(model,ticker)\n",
    "print('done')"
   ]
  },
  {
   "cell_type": "code",
   "execution_count": null,
   "metadata": {},
   "outputs": [],
   "source": []
  }
 ],
 "metadata": {
  "accelerator": "GPU",
  "colab": {
   "collapsed_sections": [],
   "name": "PROJECT (1).ipynb",
   "provenance": []
  },
  "kernelspec": {
   "display_name": "Python 3",
   "language": "python",
   "name": "python3"
  },
  "language_info": {
   "codemirror_mode": {
    "name": "ipython",
    "version": 3
   },
   "file_extension": ".py",
   "mimetype": "text/x-python",
   "name": "python",
   "nbconvert_exporter": "python",
   "pygments_lexer": "ipython3",
   "version": "3.7.4"
  }
 },
 "nbformat": 4,
 "nbformat_minor": 1
}
