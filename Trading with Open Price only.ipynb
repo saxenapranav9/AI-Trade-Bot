{
 "cells": [
  {
   "cell_type": "code",
   "execution_count": 1,
   "metadata": {
    "colab": {
     "base_uri": "https://localhost:8080/",
     "height": 88
    },
    "colab_type": "code",
    "id": "0Fl0rL_gqLXZ",
    "outputId": "5740c2a3-6e77-45c4-d0a1-1451d1f76013"
   },
   "outputs": [
    {
     "name": "stderr",
     "output_type": "stream",
     "text": [
      "Using TensorFlow backend.\n"
     ]
    }
   ],
   "source": [
    "import numpy as np # linear algebra\n",
    "import pandas as pd # data processing, CSV file I/O (e.g. pd.read_csv)\n",
    "import matplotlib.pyplot as plt\n",
    "# import pandas_datareader as web\n",
    "from sklearn.preprocessing import MinMaxScaler\n",
    "from keras.models import Sequential\n",
    "from keras.layers import Dense, LSTM\n",
    "import math\n",
    "import tensorflow as tf\n",
    "from tensorflow.keras.metrics import RootMeanSquaredError\n",
    "from keras import regularizers\n",
    "from keras.layers import Dropout, Activation\n",
    "from keras.callbacks import *\n",
    "from keras.optimizers import Adam\n",
    "from datetime import date, datetime,timedelta\n",
    "# # from google.colab import files\n",
    "# import io\n",
    "from keras.models import load_model"
   ]
  },
  {
   "cell_type": "code",
   "execution_count": 2,
   "metadata": {},
   "outputs": [],
   "source": [
    "def get_news(df2,ticker):\n",
    "\n",
    "  news_df = pd.read_excel('/Users/pranavsaxena/Desktop/Python/news-data/2020-07-06.xlsx',index_col=0) \n",
    "  news_df = news_df[news_df['ticker'] == ticker]\n",
    "  news_df['neg'][news_df['neu'] == 1] = 0.5  #added\n",
    "  news_df['pos'][news_df['neu'] == 1] = 0.5  #added\n",
    "  news_df['neg'] =  news_df.groupby(['date'])['neg'].transform('sum')\n",
    "  news_df['pos'] =  news_df.groupby(['date'])['pos'].transform('sum')\n",
    "  news_df = news_df.drop_duplicates(subset=['date'])\n",
    "  news_df = news_df.rename(columns = {'date':'Date'})\n",
    "  df2.Date = df2.Date.astype(str)\n",
    "  news_df.Date = news_df.Date.astype(str)\n",
    "  # print(news_df[['neg','neu']].head())\n",
    "\n",
    "  mergedf = pd.merge(df2,news_df,on= 'Date',how='left')\n",
    "  mergedf['neg'] = mergedf['neg'].fillna(0)\n",
    "  mergedf['pos'] = mergedf['pos'].fillna(0)\n",
    "  mergedf = mergedf[['Date','Open','High','Low','Close','Adj Close','Volume','neg','pos']]\n",
    "  return mergedf"
   ]
  },
  {
   "cell_type": "code",
   "execution_count": 3,
   "metadata": {},
   "outputs": [],
   "source": [
    "def load_file(stock_name):\n",
    "    if stock_name == 1:\n",
    "      df2 = pd.read_csv('/Users/pranavsaxena/Desktop/Python/Dissertation-Datasets/ACN.csv')  \n",
    "      ticker = 'ACN'  \n",
    "      news_df = get_news(df2,ticker)\n",
    "    elif stock_name == 2: \n",
    "      df2 = pd.read_csv('/Users/pranavsaxena/Desktop/Python/Dissertation-Datasets/AMZN.csv')  \n",
    "      ticker = 'AMZN'\n",
    "      news_df = get_news(df2,ticker)\n",
    "    elif stock_name == 3:\n",
    "      df2 = pd.read_csv('/Users/pranavsaxena/Desktop/Python/Dissertation-Datasets/CSCO.csv')  \n",
    "      ticker = 'CSCO'\n",
    "      news_df = get_news(df2,ticker)\n",
    "    elif stock_name == 4:  \n",
    "      df2 = pd.read_csv('/Users/pranavsaxena/Desktop/Python/Dissertation-Datasets/DELL.csv')  \n",
    "      ticker = 'DELL'\n",
    "      news_df = get_news(df2,ticker)\n",
    "    elif stock_name == 5:  \n",
    "      df2 = pd.read_csv('/Users/pranavsaxena/Desktop/Python/Dissertation-Datasets/FB.csv')  \n",
    "      ticker = 'FB'\n",
    "      news_df = get_news(df2,ticker)\n",
    "    elif stock_name == 6:  \n",
    "      df2 = pd.read_csv('/Users/pranavsaxena/Desktop/Python/Dissertation-Datasets/UBER.csv')  \n",
    "      ticker = 'UBER'\n",
    "      news_df = get_news(df2,ticker)\n",
    "    elif stock_name == 7:  \n",
    "      df2 = pd.read_csv('/Users/pranavsaxena/Desktop/Python/Dissertation-Datasets/VZ.csv')  \n",
    "      ticker = 'VZ'\n",
    "      news_df = get_news(df2,ticker)\n",
    "    \n",
    "    return (news_df,ticker)"
   ]
  },
  {
   "cell_type": "code",
   "execution_count": 4,
   "metadata": {
    "colab": {
     "base_uri": "https://localhost:8080/",
     "height": 238
    },
    "colab_type": "code",
    "id": "eMti48eUbqKP",
    "outputId": "5dc18fc1-d727-4729-c9f9-40baf41a9db9"
   },
   "outputs": [],
   "source": [
    "def add_sentiment(news_df):\n",
    "    news_df['sentiment'] = 1\n",
    "\n",
    "    for i in range(len(news_df)):\n",
    "        if(news_df.loc[i,'neg'] > news_df.loc[i,'pos']):\n",
    "            news_df.loc[i,'sentiment'] = 2\n",
    "        else:\n",
    "            news_df.loc[i,'sentiment'] = 1\n",
    "    df2 = news_df  \n",
    "    df2['Date'] = pd.to_datetime(df2['Date'])\n",
    "    df2.set_index('Date',inplace=True)\n",
    "#     print(df2.tail())\n",
    "    return df2"
   ]
  },
  {
   "cell_type": "code",
   "execution_count": 5,
   "metadata": {
    "colab": {
     "base_uri": "https://localhost:8080/",
     "height": 521
    },
    "colab_type": "code",
    "id": "OHp0JpGrq7Ib",
    "outputId": "47d467a4-14c9-4dc5-f5c9-ba1c2b579b69"
   },
   "outputs": [],
   "source": [
    "def plot_close_price(df2):\n",
    "    #plotting the data\n",
    "    plt.figure(figsize=(16,8))\n",
    "    plt.title('Close Price History')\n",
    "    plt.plot(df2['Close'][:-1], color='red')\n",
    "    plt.xlabel('Date', fontsize=18)\n",
    "    plt.ylabel('Close Price USD', fontsize = 18)\n",
    "    plt.show()"
   ]
  },
  {
   "cell_type": "code",
   "execution_count": 6,
   "metadata": {
    "colab": {},
    "colab_type": "code",
    "id": "ufiHJgD37xkT"
   },
   "outputs": [],
   "source": [
    "def scale_data(data):\n",
    "    scaler = MinMaxScaler()\n",
    "    data = scaler.fit_transform(data.values.reshape(data.shape[0], 1))\n",
    "    return data, scaler"
   ]
  },
  {
   "cell_type": "code",
   "execution_count": 7,
   "metadata": {
    "colab": {},
    "colab_type": "code",
    "id": "1Rv2Icir8A-g"
   },
   "outputs": [],
   "source": [
    "def processData(data,lb):\n",
    "    X,Y = [],[]\n",
    "    for i in range(len(data)-lb-1):\n",
    "        X.append(data[i:(i+lb),0])\n",
    "        Y.append(data[(i+lb+1),0])\n",
    "\n",
    "    return np.array(X),np.array(Y)"
   ]
  },
  {
   "cell_type": "code",
   "execution_count": 8,
   "metadata": {
    "colab": {
     "base_uri": "https://localhost:8080/",
     "height": 85
    },
    "colab_type": "code",
    "id": "DtI3FQKw8H_w",
    "outputId": "51f53204-3744-4f27-e46d-74c4ed12ae31"
   },
   "outputs": [],
   "source": [
    "def test_train_split(X,y,train_pct):\n",
    "\n",
    "    x_train,x_test = X[:int(X.shape[0]*train_pct)],X[int(X.shape[0]*train_pct):]\n",
    "    y_train,y_test = y[:int(y.shape[0]*train_pct)],y[int(y.shape[0]*train_pct):]\n",
    "\n",
    "    return (x_train,y_train,x_test,y_test)"
   ]
  },
  {
   "cell_type": "code",
   "execution_count": 9,
   "metadata": {
    "colab": {
     "base_uri": "https://localhost:8080/",
     "height": 409
    },
    "colab_type": "code",
    "id": "7bwW03DqOnrX",
    "outputId": "cb1f4d56-5dc0-4b3f-fc91-45cf7bf1d0ac"
   },
   "outputs": [],
   "source": [
    "def model_load(ticker):\n",
    "    model1 = load_model(\"/Users/pranavsaxena/Desktop/Python/saved_model/model_\"+ticker+\"open.h5\",custom_objects  = {'RootMeanSquaredError': RootMeanSquaredError})\n",
    "    return model1"
   ]
  },
  {
   "cell_type": "code",
   "execution_count": 10,
   "metadata": {},
   "outputs": [],
   "source": [
    "def model_evaluate(x_train, y_train,batch_size):\n",
    "    return model1.evaluate(x_train, y_train, batch_size=batch_size)"
   ]
  },
  {
   "cell_type": "code",
   "execution_count": 11,
   "metadata": {},
   "outputs": [],
   "source": [
    "def rmse_cal(model,x_test,scaler):\n",
    "    predictions = model1.predict(x_test)\n",
    "    predictions = scaler.inverse_transform(predictions)\n",
    "    y_act = scaler.inverse_transform(y_test.reshape(y_test.shape[0], 1))\n",
    "    #get the root mean square error(RMSE)\n",
    "    rmse = np.sqrt(np.mean(predictions - y_act)**2)\n",
    "    return rmse"
   ]
  },
  {
   "cell_type": "code",
   "execution_count": 12,
   "metadata": {},
   "outputs": [],
   "source": [
    "def plot_model(scaler,trained_model, train, test, actual):\n",
    "\n",
    "    x_train_prediction = trained_model.predict(train)\n",
    "    x_test_prediction = trained_model.predict(test)\n",
    "  \n",
    "#     plt.figure(figsize=(20,10))\n",
    "\n",
    "#     plt.plot(scaler.inverse_transform(actual.reshape(-1,1)), label=\"Actual\")\n",
    "#     plt.plot(scaler.inverse_transform(x_train_prediction), label=\"Train\", alpha=0.8)\n",
    "#     plt.plot(np.linspace(x_train.shape[0]+1,x_train.shape[0]+1 + len(x_test_prediction), len(x_test_prediction)), scaler.inverse_transform(x_test_prediction), label=\"Test\", color='orange', alpha=0.8)\n",
    "#     plt.legend(fontsize=\"xx-large\")\n",
    "    return (scaler.inverse_transform(x_train_prediction),scaler.inverse_transform(x_test_prediction))"
   ]
  },
  {
   "cell_type": "code",
   "execution_count": 13,
   "metadata": {},
   "outputs": [],
   "source": [
    "def display_predict_data(scaler,test_pred,y):\n",
    "    df = scaler.inverse_transform(y[int(y.shape[0]*0.8):].reshape(-1,1))\n",
    "    # print(df.shape)\n",
    "    # print(test_pred.shape)\n",
    "    df = pd.DataFrame(df)\n",
    "    df.columns=['Open']\n",
    "    # print((df.tail()))\n",
    "\n",
    "    df['Pred'] = test_pred\n",
    "    df['Difference'] = df['Open'] - df['Pred']\n",
    "\n",
    "    return df"
   ]
  },
  {
   "cell_type": "code",
   "execution_count": 14,
   "metadata": {},
   "outputs": [],
   "source": [
    "def get_min(dataset,df,training_size):\n",
    "    return dataset['Open'][:training_size][-1]"
   ]
  },
  {
   "cell_type": "code",
   "execution_count": 15,
   "metadata": {},
   "outputs": [],
   "source": [
    "def get_pred_price(df):\n",
    "  pred_list = []\n",
    "  for item in df['Pred']:\n",
    "    pred_list.append(item)\n",
    "  return pred_list\n",
    "\n",
    "def get_close_price(df):\n",
    "  pred_list = []\n",
    "  for item in df['Close']:\n",
    "    pred_list.append(item)\n",
    "  return pred_list  "
   ]
  },
  {
   "cell_type": "code",
   "execution_count": 16,
   "metadata": {},
   "outputs": [],
   "source": [
    "def get_latest_stock_price(pred_list):\n",
    "    return pred_list[-1]"
   ]
  },
  {
   "cell_type": "code",
   "execution_count": 17,
   "metadata": {
    "colab": {},
    "colab_type": "code",
    "id": "UnqGR5Xq4bjr"
   },
   "outputs": [],
   "source": [
    "def get_diff_pct(pred_price,close_min):\n",
    "    return ((pred_price - close_min)/close_min) * 100"
   ]
  },
  {
   "cell_type": "code",
   "execution_count": 18,
   "metadata": {
    "colab": {},
    "colab_type": "code",
    "id": "0fiz5ho-46iQ"
   },
   "outputs": [],
   "source": [
    "def get_stock(ticker,stocks):\n",
    "    if ticker == 'ACN':\n",
    "        return stocks[ticker]\n",
    "    elif ticker == 'AMZN':\n",
    "        return stocks[ticker]  \n",
    "    elif ticker == 'CSCO':\n",
    "        return stocks[ticker]  \n",
    "    elif ticker == 'DELL':\n",
    "        return stocks[ticker]  \n",
    "    elif ticker == 'FB':\n",
    "        return stocks[ticker]  \n",
    "    elif ticker == 'UBER':\n",
    "        return stocks[ticker]  \n",
    "    elif ticker == 'VZ':\n",
    "        return stocks[ticker]  "
   ]
  },
  {
   "cell_type": "code",
   "execution_count": 19,
   "metadata": {
    "colab": {},
    "colab_type": "code",
    "id": "jg3Qa4YO_HiV"
   },
   "outputs": [],
   "source": [
    "def update_stock(ticker,stocks,stock_count,action):\n",
    "    if action == 'sell':\n",
    "        stocks[ticker] = stocks[ticker] - stock_count\n",
    "    elif action == 'buy':  \n",
    "        stocks[ticker] = stocks[ticker] + stock_count"
   ]
  },
  {
   "cell_type": "code",
   "execution_count": 20,
   "metadata": {
    "colab": {},
    "colab_type": "code",
    "id": "AOX6cMaTSuj3"
   },
   "outputs": [],
   "source": [
    "def get_news_sentiment():\n",
    "    sentiment = df2['sentiment'][-1]\n",
    "    # sentiment = 2\n",
    "    return sentiment"
   ]
  },
  {
   "cell_type": "code",
   "execution_count": 21,
   "metadata": {},
   "outputs": [],
   "source": [
    "def transaction(close_min,stock_in_hand,ticker,pred_price,stocks,open_cash,open_price):\n",
    "    \n",
    "    count_sell = 0\n",
    "    count_buy = 0\n",
    "    count_hold = 0\n",
    "    close_diff_pct = (get_diff_pct(pred_price,close_min))  \n",
    "    news_sentiment = get_news_sentiment()\n",
    "    balance_low_ind = False\n",
    "    \n",
    "    #SELL CONDITIONS CHECK\n",
    "    if np.abs(pred_price - close_min) < 100: # the model might have predicted the worng value. The fluctuation is too much.\n",
    "    \n",
    "        if close_diff_pct >= 3.0 and close_diff_pct > 0:   # the difference in the predicted stock price and last bought value is greater than 3%\n",
    "\n",
    "            if stock_in_hand != 0:  # we do have some stocks in hand to do the transaction\n",
    "\n",
    "                if close_diff_pct >= 5.0:  # if the percent difference is greater than 5% then sell all the stocks expect last 5 stcoks\n",
    "\n",
    "                    if stock_in_hand > 5: # sell all the stocks expect 5(let 5 stocks be in balance) \n",
    "                        action = 'sell'\n",
    "                        open_cash = open_cash + (stock_in_hand - 5) * pred_price \n",
    "                        stock_count = (stock_in_hand - 5)\n",
    "                        update_stock(ticker,stocks,stock_count,action)\n",
    "                        count_sell += stock_count\n",
    "                        return(close_min,action,open_cash,stocks[ticker],balance_low_ind,count_sell)\n",
    "\n",
    "                    elif stock_in_hand > 3: # save atleast 3 stocks in bucket\n",
    "                        action = 'sell'\n",
    "                        open_cash = open_cash + pred_price # sell only one stock\n",
    "                        stock_count = 1 \n",
    "                        update_stock(ticker,stocks,stock_count,action)\n",
    "                        count_sell += stock_count\n",
    "                        return(close_min,action,open_cash,stocks[ticker],balance_low_ind,count_sell)\n",
    "\n",
    "                    else: # cannot perform transaction due to insufficient Stocks\n",
    "                        balance_low_ind = True\n",
    "#                         print(\"Insufficient Stocks in hand: \",stocks[ticker]) \n",
    "#                         print()\n",
    "                        action = 'Can not perform the transaction due to insufficient Stocks' \n",
    "                        balance_low_ind = True\n",
    "                        return(close_min,action,open_cash,stocks[ticker],balance_low_ind,count_sell)\n",
    "\n",
    "                else: # sell only one stock as percent difference is > 3% but less than 5% and sentiment is negative\n",
    "\n",
    "                    if(news_sentiment == 2): # news sentiment is negative, so it might fall tomorrow\n",
    "                        action = 'sell'\n",
    "                        open_cash = open_cash + pred_price \n",
    "                        stock_count = 1 \n",
    "                        update_stock(ticker,stocks,stock_count,action)\n",
    "                        count_sell += stock_count\n",
    "                        return(close_min,action,open_cash,stocks[ticker],balance_low_ind,count_sell)\n",
    "\n",
    "                    else:\n",
    "                        action = 'hold'    # hold the stock as it might rise more due to positive news sentiment\n",
    "                        count_hold += 1\n",
    "                        return(close_min,action,open_cash,stocks[ticker],balance_low_ind,count_hold)\n",
    "\n",
    "            else:  # cannot perform transaction due to insufficient Stocks\n",
    "\n",
    "                balance_low_ind = True\n",
    "#                 print(\"Insufficient Stocks in hand: \",stocks[ticker]) \n",
    "#                 print()\n",
    "                action = 'Can not perform the transaction due to insufficient Stocks' \n",
    "                balance_low_ind = True\n",
    "                return(close_min,action,open_cash,stocks[ticker],balance_low_ind,count_hold)\n",
    "\n",
    "        # BUY CONDITIONS CHECK\n",
    "\n",
    "        elif (close_diff_pct) <= -3.0 and close_diff_pct < 0: # the difference in the predicted stock price and last bought value is less than 3%\n",
    "\n",
    "            if (close_diff_pct) <= -5.0: # if the percent difference is less than 5% then sell all the stocks expect last 5 stocks\n",
    "\n",
    "                if(open_cash - pred_price > 2000): # it checks if we have open cash still greater than 2000 after buying one stock\n",
    "\n",
    "                    if ((5 * pred_price <= open_cash) and (open_cash - (5 * pred_price) >= 2000)) : # buy 5 stocks if we still have 2000 euros in balance after buying 5 stocks\n",
    "\n",
    "                        action = 'buy'\n",
    "                        open_cash = open_cash - (5 * pred_price) # buy 5 stocks\n",
    "                        stock_count = 5\n",
    "                        close_min = pred_price\n",
    "                        update_stock(ticker,stocks,stock_count,action)\n",
    "                        count_buy += stock_count\n",
    "                        return(close_min,action,open_cash,stocks[ticker],balance_low_ind,count_buy)\n",
    "\n",
    "                    else:  # if balance is still greater than 2000 after buying one stock\n",
    "\n",
    "                        action = 'buy'\n",
    "                        open_cash = open_cash - pred_price # buy 1 stock\n",
    "                        stock_count = 1\n",
    "                        close_min = pred_price\n",
    "                        update_stock(ticker,stocks,stock_count,action)\n",
    "                        count_buy += stock_count\n",
    "                        return(close_min,action,open_cash,stocks[ticker],balance_low_ind,count_buy)\n",
    "                else:\n",
    "                    action = 'hold'    \n",
    "                    return(close_min,action,open_cash,stocks[ticker],balance_low_ind,count_hold)\n",
    "\n",
    "            elif(open_cash - pred_price > 2000): # it checks if we have open cash still greater than 2000 after buying one stock\n",
    "\n",
    "                if(news_sentiment == 1): # due to postive news sentiment, it might increase from tomorrow\n",
    "                    action = 'buy'\n",
    "                    open_cash = open_cash - pred_price # buy 1 stock\n",
    "                    stock_count = 1\n",
    "                    close_min = pred_price\n",
    "                    update_stock(ticker,stocks,stock_count,action)\n",
    "                    count_buy += stock_count\n",
    "                    return(close_min,action,open_cash,stocks[ticker],balance_low_ind,count_buy)\n",
    "                else:\n",
    "                    action = 'hold'    # hold the stock as it might fall more due to negative news sentiment\n",
    "                    count_hold += 1\n",
    "                    return(close_min,action,open_cash,stocks[ticker],balance_low_ind,count_hold)\n",
    "\n",
    "\n",
    "            else:\n",
    "#                 print(\"Insufficient Balance\") \n",
    "#                 print()\n",
    "                action = 'Can not perform the transaction due to the balance less than 2000' \n",
    "                balance_low_ind = True\n",
    "                return(close_min,action,open_cash,stocks[ticker],balance_low_ind,count_hold)\n",
    "\n",
    "        # HOLD CONDITIONS CHECK\n",
    "\n",
    "        else:\n",
    "            action = 'hold'    \n",
    "            count_hold += 1\n",
    "            return(close_min,action,open_cash,stocks[ticker],balance_low_ind,count_hold)\n",
    "    \n",
    "    else:\n",
    "#         print('Predicted price varies a lot from the last closed price')\n",
    "        action = 'hold'\n",
    "        count_hold += 1\n",
    "        return(close_min,action,open_cash,stocks[ticker],balance_low_ind,count_hold)\n",
    "    "
   ]
  },
  {
   "cell_type": "code",
   "execution_count": 22,
   "metadata": {},
   "outputs": [],
   "source": [
    "def get_stock_data(ticker,stock_buy_price,df,latest_stock_price,dataset,training_size):\n",
    "    \n",
    "    close_min = get_min(dataset,df,training_size)\n",
    "    stock_buy_price[ticker] = close_min\n",
    "    pred_price = get_pred_price(df)\n",
    "    transaction_count = 0\n",
    "    latest_stock_price[ticker] = get_latest_stock_price(pred_price)\n",
    "    \n",
    "    return(close_min,stock_buy_price,pred_price,latest_stock_price)"
   ]
  },
  {
   "cell_type": "code",
   "execution_count": 23,
   "metadata": {},
   "outputs": [],
   "source": [
    "def cal_initial_value(stocks,stock_buy_price,open_cash):\n",
    "    total=0\n",
    "    for key in stocks:   \n",
    "        total=total + stocks[key] * stock_buy_price[key]\n",
    "    total = total + open_cash\n",
    "    print(\"Total initial portfolio value is :\" ,round(total,3)) "
   ]
  },
  {
   "cell_type": "code",
   "execution_count": 24,
   "metadata": {
    "scrolled": true
   },
   "outputs": [],
   "source": [
    "def stock_trading(pred_price,ticker,stock_pred_price,close_min,stocks,open_cash):\n",
    "    \n",
    "    transaction_count = 0\n",
    "    balance_low_ind = False\n",
    "    count_sell = 0\n",
    "    count_buy  = 0\n",
    "    count_hold = 0\n",
    "    \n",
    "    for new_price in pred_price:\n",
    "\n",
    "        stock_pred_price[ticker] = new_price\n",
    "        stock_in_hand = get_stock(ticker,stocks)\n",
    "\n",
    "        close_min,action_taken, open_cash, stocks_left,balance_low_ind,count = transaction(close_min,stock_in_hand,ticker,new_price,stocks,open_cash,balance_low_ind)\n",
    "\n",
    "        stock_buy_price[ticker] = close_min\n",
    "        transaction_count = transaction_count + 1\n",
    "        if action_taken == 'sell':\n",
    "            count_sell += count\n",
    "        elif action_taken == 'buy':\n",
    "            count_buy += count\n",
    "        else:\n",
    "            count_hold += count\n",
    "\n",
    "        if balance_low_ind == True or stocks_left == 0:\n",
    "            break  \n",
    "    \n",
    "    print(\"Stock traded is : \",ticker)\n",
    "    print(\"Transaction number: \",transaction_count) \n",
    "    print(\"Number of times stocks sold: \",count_sell)\n",
    "    print(\"Number of times stocks bought: \",count_buy)\n",
    "    print(\"Number of times stocks hold: \",count_hold) \n",
    "    print(\"Stocks left: \",stocks_left)\n",
    "    print(\"Overall cash left after the transaction: \",open_cash)\n",
    "\n",
    "    return open_cash\n"
   ]
  },
  {
   "cell_type": "code",
   "execution_count": 25,
   "metadata": {},
   "outputs": [],
   "source": [
    "def get_overall_value(open_cash,stocks,stock_pred_price):\n",
    "    total=0\n",
    "    for key in stocks:   \n",
    "        total=total + stocks[key] * stock_pred_price[key]\n",
    "    total = total + open_cash\n",
    "    print(\"Total portfolio value is :\" ,round(total,3)) \n",
    "    print()"
   ]
  },
  {
   "cell_type": "code",
   "execution_count": 26,
   "metadata": {},
   "outputs": [],
   "source": [
    "def get_today_value(open_cash,stocks,stock_pred_price):\n",
    "    total=0\n",
    "    for key in stocks:   \n",
    "        total=total + stocks[key] * latest_stock_price[key]\n",
    "    total = total + open_cash\n",
    "    print(\"Today's portfolio value is :\" ,round(total,3)) "
   ]
  },
  {
   "cell_type": "code",
   "execution_count": 27,
   "metadata": {},
   "outputs": [],
   "source": [
    "def init_prices():\n",
    "    stocks = {'ACN':15,'AMZN':50,'CSCO':50,'DELL':50,'FB':50,'UBER':50,'VZ':50}\n",
    "    stock_buy_price = {'ACN':0,'AMZN':0,'CSCO':0,'DELL':0,'FB':0,'UBER':0,'VZ':0}\n",
    "    stock_pred_price = {'ACN':0,'AMZN':0,'CSCO':0,'DELL':0,'FB':0,'UBER':0,'VZ':0}\n",
    "    latest_stock_price = {'ACN':0,'AMZN':0,'CSCO':0,'DELL':0,'FB':0,'UBER':0,'VZ':0}\n",
    "    open_cash = 100000\n",
    "    return(stocks,stock_buy_price,stock_pred_price,latest_stock_price,open_cash)"
   ]
  },
  {
   "cell_type": "code",
   "execution_count": 28,
   "metadata": {},
   "outputs": [],
   "source": [
    "def process_data(data,count):\n",
    "    \n",
    "    if count == 1:\n",
    "        stocks,stock_buy_price,stock_pred_price,latest_stock_price,open_cash = init_prices()\n",
    "    dataset = data\n",
    "    data,scaler = scale_data(data)\n",
    "    \n",
    "    look_back = 6\n",
    "    X,y = processData(data,look_back)\n",
    "    \n",
    "    #Reshape data into (Sample,Timestep,Features) \n",
    "    x_train,y_train,x_test,y_test = test_train_split(X,y,0.80)\n",
    "    x_train = x_train.reshape((x_train.shape[0],x_train.shape[1],1))\n",
    "    x_test = x_test.reshape((x_test.shape[0],x_test.shape[1],1))\n",
    "\n",
    "    training_size=int(len(data)*0.80)\n",
    "    \n",
    "    model1 = model_load(ticker)\n",
    "    \n",
    "#     train_pred,test_pred=plot_model(model1, x_train, x_test, y[:-1])\n",
    "    train_pred,test_pred=plot_model(scaler,model1, x_train, x_test, y)\n",
    "\n",
    "    \n",
    "    df = display_predict_data(scaler,test_pred,y)\n",
    "    \n",
    "    close_min,stock_buy_price,pred_price,latest_stock_price = get_stock_data(ticker,stock_buy_price,df,latest_stock_price,dataset,training_size)\n",
    "    \n",
    "    cal_initial_value(stocks,stock_buy_price,open_cash)\n",
    "    open_cash = stock_trading(pred_price,ticker,stock_pred_price,close_min,stocks,open_cash)\n",
    "    \n",
    "    get_overall_value(open_cash,stocks,stock_buy_price)\n",
    "    \n",
    "    print() \n",
    "    print(\"############\")    \n",
    "    get_today_value(open_cash,stocks,stock_pred_price)\n",
    "    print(\"############\")    \n",
    "    print()    \n",
    "\n",
    "    "
   ]
  },
  {
   "cell_type": "code",
   "execution_count": 29,
   "metadata": {
    "scrolled": false
   },
   "outputs": [
    {
     "name": "stdout",
     "output_type": "stream",
     "text": [
      "Total initial portfolio value is : 101735.2\n",
      "Stock traded is :  ACN\n",
      "Transaction number:  7\n",
      "Number of times stocks sold:  17\n",
      "Number of times stocks bought:  5\n",
      "Number of times stocks hold:  2\n",
      "Stocks left:  3\n",
      "Overall cash left after the transaction:  101416.79920196533\n",
      "Total portfolio value is : 101763.839\n",
      "\n",
      "\n",
      "############\n",
      "Today's portfolio value is : 101416.799\n",
      "############\n",
      "\n"
     ]
    }
   ],
   "source": [
    "stocks,stock_buy_price,stock_pred_price,latest_stock_price,open_cash = init_prices()\n",
    "for stock_name in range(1,2):\n",
    "    \n",
    "    news_df,ticker = load_file(stock_name)\n",
    "    \n",
    "    df2 = add_sentiment(news_df)\n",
    "    \n",
    "    data = df2.filter(['Open'])\n",
    "    process_data(data,stock_name)\n"
   ]
  },
  {
   "cell_type": "code",
   "execution_count": null,
   "metadata": {},
   "outputs": [],
   "source": [
    "print(stock_buy_price)\n",
    "print()\n",
    "print(stock_pred_price)\n",
    "print()\n",
    "print(latest_stock_price)"
   ]
  },
  {
   "cell_type": "code",
   "execution_count": null,
   "metadata": {},
   "outputs": [],
   "source": []
  }
 ],
 "metadata": {
  "accelerator": "GPU",
  "colab": {
   "collapsed_sections": [],
   "name": "PROJECT (1).ipynb",
   "provenance": []
  },
  "kernelspec": {
   "display_name": "Python 3",
   "language": "python",
   "name": "python3"
  },
  "language_info": {
   "codemirror_mode": {
    "name": "ipython",
    "version": 3
   },
   "file_extension": ".py",
   "mimetype": "text/x-python",
   "name": "python",
   "nbconvert_exporter": "python",
   "pygments_lexer": "ipython3",
   "version": "3.7.4"
  }
 },
 "nbformat": 4,
 "nbformat_minor": 1
}
